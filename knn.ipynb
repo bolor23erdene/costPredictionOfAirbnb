{
 "cells": [
  {
   "cell_type": "code",
   "execution_count": 15,
   "metadata": {},
   "outputs": [],
   "source": [
    "import pandas as pd\n",
    "import numpy as np\n",
    "from matplotlib.pyplot import *\n",
    "import matplotlib.pyplot as plt"
   ]
  },
  {
   "cell_type": "code",
   "execution_count": 16,
   "metadata": {},
   "outputs": [
    {
     "name": "stdout",
     "output_type": "stream",
     "text": [
      "(3723, 6)\n"
     ]
    },
    {
     "data": {
      "text/html": [
       "<div>\n",
       "<style scoped>\n",
       "    .dataframe tbody tr th:only-of-type {\n",
       "        vertical-align: middle;\n",
       "    }\n",
       "\n",
       "    .dataframe tbody tr th {\n",
       "        vertical-align: top;\n",
       "    }\n",
       "\n",
       "    .dataframe thead th {\n",
       "        text-align: right;\n",
       "    }\n",
       "</style>\n",
       "<table border=\"1\" class=\"dataframe\">\n",
       "  <thead>\n",
       "    <tr style=\"text-align: right;\">\n",
       "      <th></th>\n",
       "      <th>accommodates</th>\n",
       "      <th>bedrooms</th>\n",
       "      <th>bathrooms</th>\n",
       "      <th>beds</th>\n",
       "      <th>price</th>\n",
       "      <th>number_of_reviews</th>\n",
       "    </tr>\n",
       "  </thead>\n",
       "  <tbody>\n",
       "    <tr>\n",
       "      <th>0</th>\n",
       "      <td>4</td>\n",
       "      <td>1.0</td>\n",
       "      <td>1.0</td>\n",
       "      <td>2.0</td>\n",
       "      <td>$160.00</td>\n",
       "      <td>0</td>\n",
       "    </tr>\n",
       "    <tr>\n",
       "      <th>1</th>\n",
       "      <td>6</td>\n",
       "      <td>3.0</td>\n",
       "      <td>3.0</td>\n",
       "      <td>3.0</td>\n",
       "      <td>$350.00</td>\n",
       "      <td>65</td>\n",
       "    </tr>\n",
       "    <tr>\n",
       "      <th>2</th>\n",
       "      <td>1</td>\n",
       "      <td>1.0</td>\n",
       "      <td>2.0</td>\n",
       "      <td>1.0</td>\n",
       "      <td>$50.00</td>\n",
       "      <td>1</td>\n",
       "    </tr>\n",
       "    <tr>\n",
       "      <th>3</th>\n",
       "      <td>2</td>\n",
       "      <td>1.0</td>\n",
       "      <td>1.0</td>\n",
       "      <td>1.0</td>\n",
       "      <td>$95.00</td>\n",
       "      <td>0</td>\n",
       "    </tr>\n",
       "    <tr>\n",
       "      <th>4</th>\n",
       "      <td>4</td>\n",
       "      <td>1.0</td>\n",
       "      <td>1.0</td>\n",
       "      <td>1.0</td>\n",
       "      <td>$50.00</td>\n",
       "      <td>0</td>\n",
       "    </tr>\n",
       "  </tbody>\n",
       "</table>\n",
       "</div>"
      ],
      "text/plain": [
       "   accommodates  bedrooms  bathrooms  beds    price  number_of_reviews\n",
       "0             4       1.0        1.0   2.0  $160.00                  0\n",
       "1             6       3.0        3.0   3.0  $350.00                 65\n",
       "2             1       1.0        2.0   1.0   $50.00                  1\n",
       "3             2       1.0        1.0   1.0   $95.00                  0\n",
       "4             4       1.0        1.0   1.0   $50.00                  0"
      ]
     },
     "execution_count": 16,
     "metadata": {},
     "output_type": "execute_result"
    }
   ],
   "source": [
    "# load data and drop unnecessary columns\n",
    "\n",
    "dc_listings = pd.read_csv('dc_airbnb.csv')\n",
    "keep_col = ['accommodates','bedrooms','bathrooms','beds','price','number_of_reviews']\n",
    "dc_listings = dc_listings[keep_col]\n",
    "print(dc_listings.shape)\n",
    "\n",
    "dc_listings.head()"
   ]
  },
  {
   "cell_type": "code",
   "execution_count": 17,
   "metadata": {},
   "outputs": [
    {
     "name": "stdout",
     "output_type": "stream",
     "text": [
      "(3671, 6)\n",
      "Number of null values in each column:\n",
      "accommodates         0\n",
      "bedrooms             0\n",
      "bathrooms            0\n",
      "beds                 0\n",
      "price                0\n",
      "number_of_reviews    0\n",
      "dtype: int64\n"
     ]
    },
    {
     "data": {
      "text/html": [
       "<div>\n",
       "<style scoped>\n",
       "    .dataframe tbody tr th:only-of-type {\n",
       "        vertical-align: middle;\n",
       "    }\n",
       "\n",
       "    .dataframe tbody tr th {\n",
       "        vertical-align: top;\n",
       "    }\n",
       "\n",
       "    .dataframe thead th {\n",
       "        text-align: right;\n",
       "    }\n",
       "</style>\n",
       "<table border=\"1\" class=\"dataframe\">\n",
       "  <thead>\n",
       "    <tr style=\"text-align: right;\">\n",
       "      <th></th>\n",
       "      <th>accommodates</th>\n",
       "      <th>bedrooms</th>\n",
       "      <th>bathrooms</th>\n",
       "      <th>beds</th>\n",
       "      <th>price</th>\n",
       "      <th>number_of_reviews</th>\n",
       "    </tr>\n",
       "  </thead>\n",
       "  <tbody>\n",
       "    <tr>\n",
       "      <th>0</th>\n",
       "      <td>4</td>\n",
       "      <td>1.0</td>\n",
       "      <td>1.0</td>\n",
       "      <td>2.0</td>\n",
       "      <td>160.0</td>\n",
       "      <td>0</td>\n",
       "    </tr>\n",
       "    <tr>\n",
       "      <th>1</th>\n",
       "      <td>6</td>\n",
       "      <td>3.0</td>\n",
       "      <td>3.0</td>\n",
       "      <td>3.0</td>\n",
       "      <td>350.0</td>\n",
       "      <td>65</td>\n",
       "    </tr>\n",
       "    <tr>\n",
       "      <th>2</th>\n",
       "      <td>1</td>\n",
       "      <td>1.0</td>\n",
       "      <td>2.0</td>\n",
       "      <td>1.0</td>\n",
       "      <td>50.0</td>\n",
       "      <td>1</td>\n",
       "    </tr>\n",
       "    <tr>\n",
       "      <th>3</th>\n",
       "      <td>2</td>\n",
       "      <td>1.0</td>\n",
       "      <td>1.0</td>\n",
       "      <td>1.0</td>\n",
       "      <td>95.0</td>\n",
       "      <td>0</td>\n",
       "    </tr>\n",
       "    <tr>\n",
       "      <th>4</th>\n",
       "      <td>4</td>\n",
       "      <td>1.0</td>\n",
       "      <td>1.0</td>\n",
       "      <td>1.0</td>\n",
       "      <td>50.0</td>\n",
       "      <td>0</td>\n",
       "    </tr>\n",
       "  </tbody>\n",
       "</table>\n",
       "</div>"
      ],
      "text/plain": [
       "   accommodates  bedrooms  bathrooms  beds  price  number_of_reviews\n",
       "0             4       1.0        1.0   2.0  160.0                  0\n",
       "1             6       3.0        3.0   3.0  350.0                 65\n",
       "2             1       1.0        2.0   1.0   50.0                  1\n",
       "3             2       1.0        1.0   1.0   95.0                  0\n",
       "4             4       1.0        1.0   1.0   50.0                  0"
      ]
     },
     "execution_count": 17,
     "metadata": {},
     "output_type": "execute_result"
    }
   ],
   "source": [
    "# eliminate the $ from price column and drop rows with NaN\n",
    "\n",
    "dc_listings['price'] = dc_listings.price.str.replace(\"\\$|,\",'').astype(float)\n",
    "dc_listings.dropna(inplace=True)\n",
    "print(dc_listings.shape)\n",
    "null_counts = dc_listings.isnull().sum()\n",
    "print(\"Number of null values in each column:\\n{}\".format(null_counts))\n",
    "\n",
    "dc_listings.head()"
   ]
  },
  {
   "cell_type": "code",
   "execution_count": 19,
   "metadata": {},
   "outputs": [
    {
     "name": "stdout",
     "output_type": "stream",
     "text": [
      "1\n"
     ]
    }
   ],
   "source": [
    "# initialize the knn system = predict price for acc == 3\n",
    "# looking for a place for 3 people\n",
    "our_acc_value = 3 # living place accommodates 3 people\n",
    "\n",
    "# get me this column\n",
    "first_living_space_value = dc_listings.loc[0,'accommodates']\n",
    "\n",
    "# find the difference abs(x-3)\n",
    "first_distance = np.abs(first_living_space_value-our_acc_value)\n",
    "print(first_distance)"
   ]
  },
  {
   "cell_type": "code",
   "execution_count": 20,
   "metadata": {},
   "outputs": [
    {
     "data": {
      "text/plain": [
       "0      457\n",
       "1     2258\n",
       "2      497\n",
       "3      276\n",
       "4       35\n",
       "5       73\n",
       "6       17\n",
       "7       22\n",
       "8        7\n",
       "9        9\n",
       "10       2\n",
       "11       4\n",
       "12       6\n",
       "13       8\n",
       "Name: distance, dtype: int64"
      ]
     },
     "execution_count": 20,
     "metadata": {},
     "output_type": "execute_result"
    }
   ],
   "source": [
    "# create a column with distance == 3\n",
    "dc_listings['distance']=np.abs(dc_listings.accommodates-our_acc_value)\n",
    "dc_listings.distance.value_counts().sort_index()"
   ]
  },
  {
   "cell_type": "code",
   "execution_count": 180,
   "metadata": {},
   "outputs": [
    {
     "data": {
      "text/plain": [
       "577      185.0\n",
       "823      139.0\n",
       "3413     125.0\n",
       "409      128.0\n",
       "2432     125.0\n",
       "86       400.0\n",
       "3261      98.0\n",
       "1444      92.0\n",
       "341      209.0\n",
       "3626     175.0\n",
       "2293     105.0\n",
       "2835     171.0\n",
       "108       89.0\n",
       "164      120.0\n",
       "976       95.0\n",
       "3707     135.0\n",
       "2199     100.0\n",
       "1604     120.0\n",
       "1097     200.0\n",
       "1281     200.0\n",
       "2044     134.0\n",
       "376       96.0\n",
       "2125     149.0\n",
       "899      200.0\n",
       "952      150.0\n",
       "1330     135.0\n",
       "1823      76.0\n",
       "3328      57.0\n",
       "453      207.0\n",
       "2495      99.0\n",
       "         ...  \n",
       "660      298.0\n",
       "808      215.0\n",
       "3305    2000.0\n",
       "1656     283.0\n",
       "2995     595.0\n",
       "3272     599.0\n",
       "542      340.0\n",
       "529      600.0\n",
       "1885      99.0\n",
       "1326     375.0\n",
       "571      720.0\n",
       "3524     295.0\n",
       "1658     283.0\n",
       "1403     599.0\n",
       "562      599.0\n",
       "685      399.0\n",
       "2688     749.0\n",
       "1806     330.0\n",
       "657      500.0\n",
       "1850     180.0\n",
       "2757     245.0\n",
       "2106     499.0\n",
       "611     1250.0\n",
       "2560      60.0\n",
       "1224     499.0\n",
       "1596     299.0\n",
       "1818      10.0\n",
       "1402    1200.0\n",
       "763     1000.0\n",
       "1594    1250.0\n",
       "Name: price, Length: 3671, dtype: float64"
      ]
     },
     "execution_count": 180,
     "metadata": {},
     "output_type": "execute_result"
    }
   ],
   "source": [
    "# can't choose the first 5 = shuffle first = then take the first 5\n",
    "dc_listings = dc_listings.sample(frac=1,random_state=0) # reproducible random order\n",
    "dc_listings = dc_listings.sort_values('distance')\n",
    "dc_listings.price"
   ]
  },
  {
   "cell_type": "code",
   "execution_count": 181,
   "metadata": {},
   "outputs": [
    {
     "data": {
      "text/plain": [
       "140.4"
      ]
     },
     "execution_count": 181,
     "metadata": {},
     "output_type": "execute_result"
    }
   ],
   "source": [
    "# example of single prediction\n",
    "k = 5\n",
    "mean_price = dc_listings.price.iloc[:5].mean()\n",
    "mean_price"
   ]
  },
  {
   "cell_type": "code",
   "execution_count": 316,
   "metadata": {},
   "outputs": [
    {
     "name": "stdout",
     "output_type": "stream",
     "text": [
      "(2642, 7) (660, 7)\n"
     ]
    }
   ],
   "source": [
    "# divide train and test data\n",
    "factor = 0.9\n",
    "total_data = int(3671*factor)\n",
    "train_number = int(total_data*0.8)\n",
    "test_number = int(total_data*0.2)\n",
    "dc_listings.drop('distance',axis=1)\n",
    "\n",
    "train_df = dc_listings.copy().iloc[:train_number]\n",
    "test_df = dc_listings.copy().iloc[train_number:train_number+test_number]\n",
    "print(train_df.shape,test_df.shape)"
   ]
  },
  {
   "cell_type": "code",
   "execution_count": 317,
   "metadata": {},
   "outputs": [],
   "source": [
    "# function t\n",
    "def predict_price(new_listing_value,feature_column):\n",
    "    temp_df = train_df\n",
    "    \n",
    "    ## isn't it train_df ???\n",
    "    temp_df['distance'] = np.abs(dc_listings[feature_column] - new_listing_value)\n",
    "    temp_df = temp_df.sort_values('distance')\n",
    "    knn_5 = temp_df.price.iloc[:5]\n",
    "    predicted_price = knn_5.mean()\n",
    "    return(predicted_price)"
   ]
  },
  {
   "cell_type": "code",
   "execution_count": 318,
   "metadata": {},
   "outputs": [],
   "source": [
    "test_df['predicted_price'] = test_df.accommodates.apply(predict_price,feature_column='accommodates')"
   ]
  },
  {
   "cell_type": "code",
   "execution_count": 319,
   "metadata": {},
   "outputs": [
    {
     "data": {
      "text/plain": [
       "113.59804202324595"
      ]
     },
     "execution_count": 319,
     "metadata": {},
     "output_type": "execute_result"
    }
   ],
   "source": [
    "#using RMSE to evaluate our model - root mean squared error\n",
    "test_df['squared_error'] = (test_df['predicted_price'] - test_df['price'])**(2)\n",
    "mse = test_df['squared_error'].mean()\n",
    "rmse = mse ** (1/2)\n",
    "rmse"
   ]
  },
  {
   "cell_type": "code",
   "execution_count": 320,
   "metadata": {},
   "outputs": [
    {
     "name": "stdout",
     "output_type": "stream",
     "text": [
      "RMSE for the accommodates column: 113.59804202324595\n",
      "RMSE for the bedrooms column: 114.8922348827963\n",
      "RMSE for the bathrooms column: 111.13731119382878\n",
      "RMSE for the number_of_reviews column: 137.62059835253257\n",
      "RMSE for the beds column: 114.618623480152\n"
     ]
    }
   ],
   "source": [
    "# Comparing different models\n",
    "error = []\n",
    "for feature in ['accommodates','bedrooms','bathrooms','number_of_reviews','beds']:\n",
    "    test_df['predicted_price'] = test_df.accommodates.apply(predict_price,feature_column=feature)\n",
    "    \n",
    "    test_df['squared_error'] = (test_df['predicted_price'] - test_df['price'])**(2)\n",
    "    mse = test_df['squared_error'].mean()\n",
    "    rmse = mse ** (1/2)\n",
    "    error.append(rmse)\n",
    "    print(\"RMSE for the {} column: {}\".format(feature,rmse))"
   ]
  },
  {
   "cell_type": "code",
   "execution_count": 321,
   "metadata": {},
   "outputs": [
    {
     "data": {
      "image/png": "[encoded data removed]",
      "text/plain": [
       "<matplotlib.figure.Figure at 0x10e860438>"
      ]
     },
     "metadata": {},
     "output_type": "display_data"
    }
   ],
   "source": [
    "objects = ('accommodates only', 'bedrooms only', 'bathrooms only', 'reviews only', 'beds only')\n",
    "y_pos = np.arange(len(objects))\n",
    "plt.barh(y_pos, error, align='center', alpha=0.2)\n",
    "plt.yticks(y_pos, objects)\n",
    "plt.xlabel('Root mean square error')\n",
    "plt.title('Price prediction by a single feature')\n",
    "\n",
    "\n",
    "for i, v in enumerate(error):\n",
    "    plt.text(v + 3, i, str(int(v)), color='blue', fontweight='bold')\n",
    " \n",
    "plt.show()"
   ]
  },
  {
   "cell_type": "code",
   "execution_count": 322,
   "metadata": {},
   "outputs": [],
   "source": [
    "for feature in ['accommodates','bedrooms','bathrooms','number_of_reviews','beds']:\n",
    "    dc_listings[feature] = (dc_listings[feature]-dc_listings[feature].mean())/dc_listings[feature].std()"
   ]
  },
  {
   "cell_type": "code",
   "execution_count": 323,
   "metadata": {},
   "outputs": [
    {
     "data": {
      "text/html": [
       "<div>\n",
       "<style scoped>\n",
       "    .dataframe tbody tr th:only-of-type {\n",
       "        vertical-align: middle;\n",
       "    }\n",
       "\n",
       "    .dataframe tbody tr th {\n",
       "        vertical-align: top;\n",
       "    }\n",
       "\n",
       "    .dataframe thead th {\n",
       "        text-align: right;\n",
       "    }\n",
       "</style>\n",
       "<table border=\"1\" class=\"dataframe\">\n",
       "  <thead>\n",
       "    <tr style=\"text-align: right;\">\n",
       "      <th></th>\n",
       "      <th>accommodates</th>\n",
       "      <th>bedrooms</th>\n",
       "      <th>bathrooms</th>\n",
       "      <th>beds</th>\n",
       "      <th>price</th>\n",
       "      <th>number_of_reviews</th>\n",
       "      <th>distance</th>\n",
       "    </tr>\n",
       "  </thead>\n",
       "  <tbody>\n",
       "    <tr>\n",
       "      <th>381</th>\n",
       "      <td>-0.596544</td>\n",
       "      <td>-0.249467</td>\n",
       "      <td>-0.439151</td>\n",
       "      <td>-0.546858</td>\n",
       "      <td>295.0</td>\n",
       "      <td>-0.516709</td>\n",
       "      <td>1</td>\n",
       "    </tr>\n",
       "    <tr>\n",
       "      <th>1191</th>\n",
       "      <td>-0.097589</td>\n",
       "      <td>-0.249467</td>\n",
       "      <td>-0.439151</td>\n",
       "      <td>-0.546858</td>\n",
       "      <td>199.0</td>\n",
       "      <td>0.030551</td>\n",
       "      <td>0</td>\n",
       "    </tr>\n",
       "    <tr>\n",
       "      <th>505</th>\n",
       "      <td>-0.596544</td>\n",
       "      <td>-0.249467</td>\n",
       "      <td>1.264998</td>\n",
       "      <td>-0.546858</td>\n",
       "      <td>110.0</td>\n",
       "      <td>-0.072060</td>\n",
       "      <td>1</td>\n",
       "    </tr>\n",
       "    <tr>\n",
       "      <th>472</th>\n",
       "      <td>-0.596544</td>\n",
       "      <td>-0.249467</td>\n",
       "      <td>-0.439151</td>\n",
       "      <td>-0.546858</td>\n",
       "      <td>350.0</td>\n",
       "      <td>-0.414097</td>\n",
       "      <td>1</td>\n",
       "    </tr>\n",
       "    <tr>\n",
       "      <th>3696</th>\n",
       "      <td>-0.596544</td>\n",
       "      <td>-0.249467</td>\n",
       "      <td>-0.439151</td>\n",
       "      <td>-0.546858</td>\n",
       "      <td>70.0</td>\n",
       "      <td>5.537355</td>\n",
       "      <td>1</td>\n",
       "    </tr>\n",
       "  </tbody>\n",
       "</table>\n",
       "</div>"
      ],
      "text/plain": [
       "      accommodates  bedrooms  bathrooms      beds  price  number_of_reviews  \\\n",
       "381      -0.596544 -0.249467  -0.439151 -0.546858  295.0          -0.516709   \n",
       "1191     -0.097589 -0.249467  -0.439151 -0.546858  199.0           0.030551   \n",
       "505      -0.596544 -0.249467   1.264998 -0.546858  110.0          -0.072060   \n",
       "472      -0.596544 -0.249467  -0.439151 -0.546858  350.0          -0.414097   \n",
       "3696     -0.596544 -0.249467  -0.439151 -0.546858   70.0           5.537355   \n",
       "\n",
       "      distance  \n",
       "381          1  \n",
       "1191         0  \n",
       "505          1  \n",
       "472          1  \n",
       "3696         1  "
      ]
     },
     "execution_count": 323,
     "metadata": {},
     "output_type": "execute_result"
    }
   ],
   "source": [
    "normalized_listings = dc_listings.sample(frac=1,random_state=0)\n",
    "\n",
    "norm_train_df = dc_listings.copy().iloc[:train_number]\n",
    "norm_test_df = dc_listings.copy().iloc[train_number:]\n",
    "\n",
    "normalized_listings.shape\n",
    "normalized_listings.head()"
   ]
  },
  {
   "cell_type": "code",
   "execution_count": 324,
   "metadata": {},
   "outputs": [
    {
     "name": "stdout",
     "output_type": "stream",
     "text": [
      "114.618623480152\n"
     ]
    }
   ],
   "source": [
    "from scipy.spatial import distance\n",
    "def predict_price_multivariate(new_listing_value,feature_columns):\n",
    "    temp_df = norm_train_df\n",
    "    temp_df['distance'] = distance.cdist(temp_df[feature_columns],[new_listing_value[feature_columns]])\n",
    "    temp_df = temp_df.sort_values('distance')\n",
    "    knn_5 = temp_df.price.iloc[:5]\n",
    "    predicted_price = knn_5.mean()\n",
    "    return(predicted_price)\n",
    "\n",
    "cols = ['accommodates','beds']\n",
    "norm_test_df['predicted_price'] = norm_test_df[cols].apply(predict_price_multivariate,feature_columns=cols,axis=1)    \n",
    "norm_test_df['squared_error'] = (norm_test_df['predicted_price'] - norm_test_df['price'])**(2)\n",
    "mse = norm_test_df['squared_error'].mean()\n",
    "two_features_rmse = mse ** (1/2)\n",
    "print(rmse)\n",
    "error.append(two_features_rmse)"
   ]
  },
  {
   "cell_type": "code",
   "execution_count": 325,
   "metadata": {},
   "outputs": [],
   "source": [
    "from sklearn.neighbors import KNeighborsRegressor\n",
    "from sklearn.metrics import mean_squared_error\n",
    "knn = KNeighborsRegressor()\n",
    "\n",
    "knn = KNeighborsRegressor(algorithm='brute')\n",
    "\n",
    "cols = ['accommodates','bedrooms','bathrooms','beds','number_of_reviews']\n",
    "\n",
    "knn.fit(norm_train_df[cols], norm_train_df['price'])\n",
    "all_features_predictions = knn.predict(norm_test_df[cols])\n",
    "all_features_mse = mean_squared_error(norm_test_df['price'], all_features_predictions)\n",
    "all_features_rmse = all_features_mse ** (1/2)\n",
    "all_features_rmse\n",
    "error.append(all_features_rmse)"
   ]
  },
  {
   "cell_type": "code",
   "execution_count": 326,
   "metadata": {},
   "outputs": [
    {
     "data": {
      "image/png": "[encoded data removed]",
      "text/plain": [
       "<matplotlib.figure.Figure at 0x10e85f780>"
      ]
     },
     "metadata": {},
     "output_type": "display_data"
    }
   ],
   "source": [
    "objects = ('accomodations only', 'bedrooms only', 'bathrooms only', 'number of reviews only',  'bedrooms', 'accommodates and beds','all features')\n",
    "y_pos = np.arange(len(objects))\n",
    "plt.barh(y_pos, error, align='center', alpha=0.2)\n",
    "plt.yticks(y_pos, objects)\n",
    "plt.xlabel('Root mean square errors')\n",
    "plt.title('Price prediction by various number of features')\n",
    "\n",
    "for i, v in enumerate(error):\n",
    "    plt.text(v + 3, i, str(int(v)), color='blue', fontweight='bold')\n",
    " \n",
    "plt.show()"
   ]
  },
  {
   "cell_type": "code",
   "execution_count": 330,
   "metadata": {},
   "outputs": [
    {
     "data": {
      "image/png": "[encoded data removed]",
      "text/plain": [
       "<matplotlib.figure.Figure at 0x10e840c18>"
      ]
     },
     "metadata": {},
     "output_type": "display_data"
    }
   ],
   "source": [
    "x = [0.5*3671,0.6*3671,0.7*3671,0.8*3671,0.9*3671]\n",
    "y = [143,151,159,174,192]\n",
    "\n",
    "plt.plot(x,y,'bo')\n",
    "plt.title('Root Mean Square Error vs Number of Total Data')\n",
    "plt.ylabel('RMSE')\n",
    "plt.xlabel('Number of Total Data')\n",
    "plt.show()"
   ]
  },
  {
   "cell_type": "code",
   "execution_count": null,
   "metadata": {},
   "outputs": [],
   "source": [
    "x = [0.4,0.45,0.5,0.55,0.6,0.7,0.8,0.9]\n",
    "y = [143,149,154,158,162,182,216,290]\n",
    "\n",
    "plt.plot(x,y)\n",
    "plt.title('Root Mean Square error vs Train/Total')\n",
    "plt.ylabel('RMSE')\n",
    "plt.xlabel('Train/Total')\n",
    "plt.show()"
   ]
  },
  {
   "cell_type": "code",
   "execution_count": 331,
   "metadata": {},
   "outputs": [
    {
     "data": {
      "text/plain": [
       "(3671, 7)"
      ]
     },
     "execution_count": 331,
     "metadata": {},
     "output_type": "execute_result"
    }
   ],
   "source": [
    "dc_listings.shape"
   ]
  },
  {
   "cell_type": "markdown",
   "metadata": {},
   "source": [
    "# The KNN algorithm by alone is not sufficient for high accuracy of Airbnb cost prediction. Also, only 3000 records of dataset can't result in a high accuracy. Different prediction models will be used in the later versions."
   ]
  },
  {
   "cell_type": "code",
   "execution_count": null,
   "metadata": {},
   "outputs": [],
   "source": []
  }
 ],
 "metadata": {
  "kernelspec": {
   "display_name": "Python 3",
   "language": "python",
   "name": "python3"
  },
  "language_info": {
   "codemirror_mode": {
    "name": "ipython",
    "version": 3
   },
   "file_extension": ".py",
   "mimetype": "text/x-python",
   "name": "python",
   "nbconvert_exporter": "python",
   "pygments_lexer": "ipython3",
   "version": "3.6.1"
  }
 },
 "nbformat": 4,
 "nbformat_minor": 2
}
