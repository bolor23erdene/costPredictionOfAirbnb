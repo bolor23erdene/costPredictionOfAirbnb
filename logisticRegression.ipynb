{
 "cells": [
  {
   "cell_type": "code",
   "execution_count": 121,
   "metadata": {},
   "outputs": [
    {
     "name": "stdout",
     "output_type": "stream",
     "text": [
      "(3723, 6)\n",
      "(3671, 6)\n",
      "Number of null values in each column:\n",
      "accommodates         0\n",
      "bedrooms             0\n",
      "bathrooms            0\n",
      "beds                 0\n",
      "price                0\n",
      "number_of_reviews    0\n",
      "dtype: int64\n"
     ]
    }
   ],
   "source": [
    "import numpy as np\n",
    "import pandas as pd\n",
    "\n",
    "dc_listings = pd.read_csv('dc_airbnb.csv')\n",
    "keep_col = ['accommodates','bedrooms','bathrooms','beds','price','number_of_reviews']\n",
    "#keep_col = ['accommodates','price']\n",
    "dc_listings = dc_listings[keep_col]\n",
    "print(dc_listings.shape)\n",
    "\n",
    "dc_listings.dropna(inplace=True)\n",
    "print(dc_listings.shape)\n",
    "null_counts = dc_listings.isnull().sum()\n",
    "print(\"Number of null values in each column:\\n{}\".format(null_counts))\n",
    "\n",
    "dc_listings['price'] = dc_listings.price.str.replace(\"\\$|,\",'').astype(float)\n",
    "\n",
    "#weights = dc_listings[['accommodates','bedrooms','bathrooms','beds']]\n",
    "#prices = dc_listings['price']\n",
    "\n",
    "#print(weights.shape)\n",
    "#print(prices.shape)\n",
    "\n",
    "#print(weights.head())\n",
    "#print(prices.head())\n",
    "\n",
    "\n",
    "\n"
   ]
  },
  {
   "cell_type": "code",
   "execution_count": 126,
   "metadata": {},
   "outputs": [
    {
     "name": "stdout",
     "output_type": "stream",
     "text": [
      "TRAIN STEP: 0\n",
      "COST: 40178.617\n",
      "TRAIN STEP: 1000\n",
      "COST: 19715.402\n",
      "TRAIN STEP: 2000\n",
      "COST: 13716.881\n",
      "TRAIN STEP: 3000\n",
      "COST: 12573.402\n",
      "TRAIN STEP: 4000\n",
      "COST: 12462.525\n",
      "TRAIN STEP: 5000\n",
      "COST: 12400.583\n",
      "TRAIN STEP: 6000\n",
      "COST: 12327.121\n",
      "TRAIN STEP: 7000\n",
      "COST: 12252.314\n",
      "TRAIN STEP: 8000\n",
      "COST: 12189.144\n",
      "TRAIN STEP: 9000\n",
      "COST: 12146.211\n",
      "TRAIN STEP: 10000\n",
      "COST: 12124.58\n",
      "TRAIN STEP: 11000\n",
      "COST: 12117.245\n",
      "TRAIN STEP: 12000\n",
      "COST: 12115.584\n",
      "TRAIN STEP: 13000\n",
      "COST: 12115.369\n",
      "[[19.9459    ]\n",
      " [33.554474  ]\n",
      " [43.978695  ]\n",
      " [-5.399226  ]\n",
      " [-0.32448077]]\n",
      "[3.2469676]\n"
     ]
    }
   ],
   "source": [
    "import tensorflow as tf\n",
    "import numpy as np\n",
    "\n",
    "\n",
    "target_fields = ['price']\n",
    "X, Y = dc_listings.drop(target_fields, axis=1), dc_listings[target_fields]\n",
    "X_train, Y_train = X[:3000], Y[:3000]\n",
    "X_test, Y_test = X[3000:], Y[3000:]\n",
    "#X_test = weights.copy().iloc[3000:]\n",
    "#Y_test = prices.copy().iloc[3000:]\n",
    "\n",
    "predicted_price = 1 # numbers of 0-9\n",
    "n_features = 5 #per image = 28*28\n",
    "\n",
    "X = tf.placeholder(tf.float32, shape = (None, n_features)) # 100 x 784 fed by training images\n",
    "Y_real = tf.placeholder(tf.float32, shape = (None, 1)) # 10 fed by training image labels\n",
    "\n",
    "### Define W,b: with zeros and then global_variables_initialize() or xavier_initializer\n",
    "W = tf.Variable(tf.zeros([n_features, 1])) \n",
    "b = tf.Variable(tf.zeros(1)) \n",
    "Y_pred = tf.matmul(X,W) + b \n",
    "\n",
    "### Cost: Cross_entropy (Study about costs)\n",
    "cost = tf.reduce_mean(tf.square(Y_pred-Y_real))\n",
    "\n",
    " \n",
    "### Train: GradientDescentOptimizer (study different optimizers)\n",
    "#train_op = tf.train.AdamOptimizer(0.001).minimize(cost)\n",
    "train_op = tf.train.AdamOptimizer(0.01).minimize(cost)\n",
    "\n",
    "#cost_history = np.empty(shape=[1],dtype=float)\n",
    "\n",
    "### Initialization: global_variables_initialize()\n",
    "init = tf.global_variables_initializer()\n",
    "sess = tf.Session()\n",
    "sess.run(init)\n",
    "\n",
    "TRAIN_STEP = 14000\n",
    "\n",
    "for i in range(TRAIN_STEP):\n",
    "\tsess.run(train_op,feed_dict={X: X_train, Y_real:Y_train})\n",
    "    #cost_history = np.append(cost_history,sess.run(cost,feed_dict={X: X_train,Y_real: Y_train}))\n",
    "\tif i % 1000 == 0:\n",
    "\t\tprint(\"TRAIN STEP: \" + str(i))\n",
    "\t\tprint(\"COST: \" + str(sess.run(cost,feed_dict = {X:X_train,Y_real:Y_train})))\n",
    "\t\t\n",
    "print(sess.run(W))\n",
    "print(sess.run(b))\n",
    "sess.close()\n",
    "\n"
   ]
  },
  {
   "cell_type": "code",
   "execution_count": 127,
   "metadata": {},
   "outputs": [
    {
     "data": {
      "text/plain": [
       "(3671, 6)"
      ]
     },
     "execution_count": 127,
     "metadata": {},
     "output_type": "execute_result"
    }
   ],
   "source": [
    "import pandas as pd\n",
    "import numpy as np\n",
    "from matplotlib.pyplot import *\n",
    "import matplotlib.pyplot as plt\n",
    "dc_listings.shape\n"
   ]
  },
  {
   "cell_type": "code",
   "execution_count": 125,
   "metadata": {},
   "outputs": [
    {
     "data": {
      "image/png": "[encoded data removed]",
      "text/plain": [
       "<matplotlib.figure.Figure at 0x11c9dd9e8>"
      ]
     },
     "metadata": {},
     "output_type": "display_data"
    }
   ],
   "source": [
    "real_price = dc_listings['price']\n",
    "real_acc = dc_listings['accommodates']\n",
    "predicted_price = [33.84*i+41 for i in real_acc]\n",
    "\n",
    "plt.plot(real_acc,real_price,'bo')\n",
    "plt.plot(real_acc,predicted_price,color=\"red\")\n",
    "plt.title('Logistic Regression Based on Accommodates')\n",
    "plt.ylabel('Real Price')\n",
    "plt.xlabel('Accommodates')\n",
    "plt.show()"
   ]
  },
  {
   "cell_type": "code",
   "execution_count": 112,
   "metadata": {},
   "outputs": [
    {
     "name": "stdout",
     "output_type": "stream",
     "text": [
      "151.23\n",
      "321.43\n"
     ]
    },
    {
     "data": {
      "image/png": "[encoded data removed]",
      "text/plain": [
       "<matplotlib.figure.Figure at 0x11c913080>"
      ]
     },
     "metadata": {},
     "output_type": "display_data"
    }
   ],
   "source": [
    "target_fields = ['price']\n",
    "features, real_price = dc_listings.drop(target_fields, axis=1), dc_listings[target_fields]\n",
    "\n",
    "\n",
    "predicted_price = [0]*len(real_price)\n",
    "coef = [20,34,44,-5,-0.32]\n",
    "j = 0\n",
    "\n",
    "\n",
    "    \n",
    "#dc_listings['distance']=np.abs(dc_listings.accommodates-our_acc_value)\n",
    "#    for i in ['accommodates','bedrooms','bathrooms','beds','number_of_reviews']:\n",
    "\n",
    "dc_listings['pred'] = dc_listings.accommodates*20+dc_listings.bedrooms*34+dc_listings.bathrooms*44-dc_listings.beds*5-0.32*dc_listings.number_of_reviews+3.23\n",
    "print(dc_listings['pred'][0])\n",
    "print(dc_listings['pred'][1])\n",
    "#first_living_space_value = dc_listings.loc[0,'accommodates']\n",
    "\n",
    "#dc_listings['predicted'] = dc_listings['accommodates'] + dc_listings['bedrooms'] + dc_listings['bathrooms']\n",
    "    \n",
    "\n",
    "    \n",
    "#predicted_price = [20*i[0]+34*i[1]+44*i[2]-5*i[3]-0.32*i[4]+3.23 for i in features]\n",
    "x_axis = [i for i in range(len(real_price))]\n",
    "\n",
    "plt.plot(x_axis,real_price,'bo',label='actual')\n",
    "plt.plot(x_axis,dc_listings['pred'],'o',color=\"red\",label='prediction')\n",
    "plt.title('Logistic Regression Based on All Features')\n",
    "plt.ylabel('Real Price')\n",
    "plt.legend(loc='upper left')\n",
    "plt.xlabel('Apartment Number')\n",
    "ylim(0, 1000) \n",
    "plt.show()"
   ]
  },
  {
   "cell_type": "code",
   "execution_count": null,
   "metadata": {},
   "outputs": [],
   "source": []
  },
  {
   "cell_type": "code",
   "execution_count": null,
   "metadata": {},
   "outputs": [],
   "source": [
    "Y_pred = sess.run(y_, feed_dict={X: X_test})\n",
    "mse = tf.reduce_mean(tf.square(Y_pred - Y_test))\n",
    "print(\"MSE: %.4f\" % sess.run(mse)) \n",
    "\n",
    "fig, ax = plt.subplots()\n",
    "ax.scatter(Y_test, Y_pred)\n",
    "ax.plot([Y_test.min(), Y_test.max()], [Y_test.min(), Y_test.max()], 'k--', lw=3)\n",
    "ax.set_xlabel('Measured')\n",
    "ax.set_ylabel('Predicted')\n",
    "plt.show()\n",
    "sess.close()"
   ]
  },
  {
   "cell_type": "code",
   "execution_count": null,
   "metadata": {},
   "outputs": [],
   "source": []
  }
 ],
 "metadata": {
  "kernelspec": {
   "display_name": "Python 3",
   "language": "python",
   "name": "python3"
  },
  "language_info": {
   "codemirror_mode": {
    "name": "ipython",
    "version": 3
   },
   "file_extension": ".py",
   "mimetype": "text/x-python",
   "name": "python",
   "nbconvert_exporter": "python",
   "pygments_lexer": "ipython3",
   "version": "3.6.1"
  }
 },
 "nbformat": 4,
 "nbformat_minor": 2
}
